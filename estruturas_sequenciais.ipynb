{
 "cells": [
  {
   "cell_type": "code",
   "execution_count": 1,
   "metadata": {},
   "outputs": [
    {
     "name": "stdout",
     "output_type": "stream",
     "text": [
      "34 <class 'str'>\n"
     ]
    }
   ],
   "source": [
    "idade = input('Informe sua Idade: ')\r\n",
    "print(idade, type(idade))"
   ]
  },
  {
   "cell_type": "code",
   "execution_count": 2,
   "metadata": {},
   "outputs": [
    {
     "name": "stdout",
     "output_type": "stream",
     "text": [
      "34 <class 'int'>\n"
     ]
    }
   ],
   "source": [
    "idade = int(idade)\r\n",
    "print(idade, type(idade))"
   ]
  },
  {
   "cell_type": "code",
   "execution_count": 5,
   "metadata": {},
   "outputs": [
    {
     "name": "stdout",
     "output_type": "stream",
     "text": [
      "123.54\n",
      "123.54\n",
      "False\n",
      "True\n",
      "False\n",
      "True\n"
     ]
    }
   ],
   "source": [
    "print(float('123.54'))\r\n",
    "print(str('123.54'))\r\n",
    "print(bool(''))\r\n",
    "print(bool('asd'))\r\n",
    "print(bool(0))\r\n",
    "print(bool(123))"
   ]
  },
  {
   "cell_type": "code",
   "execution_count": 6,
   "metadata": {},
   "outputs": [
    {
     "name": "stdout",
     "output_type": "stream",
     "text": [
      "O montante que você pode economizar ao fim do ano é 36000.0\n"
     ]
    }
   ],
   "source": [
    "salario_mensal = input('Digite seu salário mensal: ')\r\n",
    "salario_mensal = float(salario_mensal)\r\n",
    "\r\n",
    "gasto_mensal = input('Digite o seu gasto mensal em média: ')\r\n",
    "gasto_mensal = float(gasto_mensal)\r\n",
    "\r\n",
    "salario_anual = salario_mensal * 12\r\n",
    "gasto_anual = gasto_mensal * 12\r\n",
    "\r\n",
    "montante_economizado = salario_anual - gasto_anual\r\n",
    "\r\n",
    "print('O montante que você pode economizar ao fim do ano é', montante_economizado)"
   ]
  },
  {
   "cell_type": "code",
   "execution_count": null,
   "metadata": {},
   "outputs": [],
   "source": []
  }
 ],
 "metadata": {
  "interpreter": {
   "hash": "b3ba2566441a7c06988d0923437866b63cedc61552a5af99d1f4fb67d367b25f"
  },
  "kernelspec": {
   "display_name": "Python 3.8.5 64-bit ('base': conda)",
   "name": "python3"
  },
  "language_info": {
   "codemirror_mode": {
    "name": "ipython",
    "version": 3
   },
   "file_extension": ".py",
   "mimetype": "text/x-python",
   "name": "python",
   "nbconvert_exporter": "python",
   "pygments_lexer": "ipython3",
   "version": "3.8.5"
  },
  "orig_nbformat": 4
 },
 "nbformat": 4,
 "nbformat_minor": 2
}