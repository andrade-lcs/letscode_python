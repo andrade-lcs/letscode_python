{
 "cells": [
  {
   "cell_type": "code",
   "execution_count": null,
   "metadata": {},
   "outputs": [],
   "source": [
    "valor_passagem = 4.30\r\n",
    "valor_corrida = input('Qual valor da corrida? ')\r\n",
    "\r\n",
    "if float(valor_passagem) <= 5 * valor_passagem:\r\n",
    "    "
   ]
  }
 ],
 "metadata": {
  "interpreter": {
   "hash": "1b962963a6bb670d7ed207e7afec9dc3d3102a18b62a5651cb056d257a210f2c"
  },
  "kernelspec": {
   "display_name": "Python 3.7.6 64-bit (conda)",
   "name": "python3"
  },
  "language_info": {
   "name": "python",
   "version": ""
  },
  "orig_nbformat": 4
 },
 "nbformat": 4,
 "nbformat_minor": 2
}