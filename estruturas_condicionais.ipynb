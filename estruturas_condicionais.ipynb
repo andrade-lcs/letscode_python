{
 "cells": [
  {
   "cell_type": "code",
   "execution_count": 8,
   "metadata": {},
   "outputs": [
    {
     "name": "stdout",
     "output_type": "stream",
     "text": [
      "Pegue o ônibus\n"
     ]
    }
   ],
   "source": [
    "valor_passagem = 4.30\r\n",
    "valor_corrida = input('Qual valor da corrida? ')\r\n",
    "\r\n",
    "if float(valor_corrida) <= 5 * valor_passagem:\r\n",
    "    print('Pague a corrida')\r\n",
    "if float(valor_corrida) > 5 * valor_passagem:\r\n",
    "    print('Pegue o ônibus')"
   ]
  },
  {
   "cell_type": "code",
   "execution_count": 7,
   "metadata": {},
   "outputs": [
    {
     "name": "stdout",
     "output_type": "stream",
     "text": [
      "Pague a corrida\n"
     ]
    }
   ],
   "source": [
    "valor_passagem = 4.30\r\n",
    "valor_corrida = input('Qual valor da corrida? ')\r\n",
    "\r\n",
    "if float(valor_corrida) <= 5 * valor_passagem:\r\n",
    "    print('Pague a corrida')\r\n",
    "else:\r\n",
    "    print('Pegue o ônibus')"
   ]
  },
  {
   "cell_type": "code",
   "execution_count": 11,
   "metadata": {},
   "outputs": [
    {
     "name": "stdout",
     "output_type": "stream",
     "text": [
      "Aguarde  um momento, o valor pode abaixar\n"
     ]
    }
   ],
   "source": [
    "valor_passagem = 4.30\r\n",
    "valor_corrida = input('Qual valor da corrida? ')\r\n",
    "\r\n",
    "if float(valor_corrida) <= 5 * valor_passagem:\r\n",
    "    print('Pague a corrida')\r\n",
    "elif float(valor_corrida) <= 6 * valor_passagem:\r\n",
    "    print('Aguarde  um momento, o valor pode abaixar')\r\n",
    "else:\r\n",
    "    print('Pegue o ônibus')"
   ]
  },
  {
   "cell_type": "code",
   "execution_count": null,
   "metadata": {},
   "outputs": [],
   "source": []
  }
 ],
 "metadata": {
  "interpreter": {
   "hash": "19dd5068fd4c406359a86f27249fc517a25f1ed5fa0eb2341423f3354c0b7639"
  },
  "kernelspec": {
   "display_name": "Python 3.8.2 32-bit",
   "name": "python3"
  },
  "language_info": {
   "codemirror_mode": {
    "name": "ipython",
    "version": 3
   },
   "file_extension": ".py",
   "mimetype": "text/x-python",
   "name": "python",
   "nbconvert_exporter": "python",
   "pygments_lexer": "ipython3",
   "version": "3.8.2"
  },
  "orig_nbformat": 4
 },
 "nbformat": 4,
 "nbformat_minor": 2
}