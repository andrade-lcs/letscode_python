{
  "nbformat": 4,
  "nbformat_minor": 0,
  "metadata": {
    "colab": {
      "name": "Manipulando_arquivos.ipynb",
      "provenance": [],
      "authorship_tag": "ABX9TyMs6NEY6cJS39UmOPUz3jd/"
    },
    "kernelspec": {
      "name": "python3",
      "display_name": "Python 3"
    },
    "language_info": {
      "name": "python"
    }
  },
  "cells": [
    {
      "cell_type": "code",
      "metadata": {
        "colab": {
          "base_uri": "https://localhost:8080/"
        },
        "id": "8owcTha9QOHx",
        "outputId": "1daa459d-eda9-44d2-fc4c-deddddb78731"
      },
      "source": [
        "arquivo = open('Dom Casmurro.txt', 'r', encoding='utf-8')\n",
        "texto = arquivo.read()\n",
        "print(texto)\n",
        "arquivo.close"
      ],
      "execution_count": 1,
      "outputs": [
        {
          "output_type": "stream",
          "text": [
            "Dom Casmurro \n",
            "\n",
            "Texto de referenda: \n",
            "Obras Completas de Machado de Assis, vol. I, \n",
            "Nova Aguilar, Rio de Janeiro, 1994. \n",
            "Publicado originalmente pela Editora Gamier, Rio de Janeiro, 1899. \n",
            "\n",
            "\n",
            "CAPITULO PRIMEIRO \n",
            "DO TITULO \n",
            "\n",
            "Uma noite destas, vindo da cidade para o Engenho Novo, encontrei no trem da \n",
            "Central um rapaz aqui do bairro, que eu conhego de vista e de chapeu. \n",
            "Cumprimentou-me, sentou-se ao pe de mim, falou da Lua e dos ministros, e \n",
            "acabou recitando-me versos. A viagem era curta, e os versos pode ser que nao \n",
            "fossem inteiramente maus. Sucedeu, porem, que, como eu estava cansado, fechei \n",
            "os olhos tres ou quatro vezes; tanto bastou para que ele interrompesse a leitura e \n",
            "metesse os versos no bolso. \n",
            "\n",
            "— Continue, disse eu acordando. \n",
            "\n",
            "— Ja acabei, murmurou ele. \n",
            "\n",
            "— Sao muito bonitos. \n",
            "\n",
            "Vi-lhe fazer um gesto para tira-los outra vez do bolso, mas nao passou do gesto; \n",
            "estava amuado. No dia seguinte entrou a dizer de mim nomes feios, e acabou \n",
            "alcunhando-me Dom Casmurro. Os vizinhos, que nao gostam dos meus habitos \n",
            "reclusos e calados, deram curso a alcunha, que afinal pegou. Nem por isso me \n",
            "zanguei. Contei a anedota aos amigos da cidade, e eles, por graga, chamam-me \n",
            "assim, alguns em bilhetes: \"Dom Casmurro, domingo vou jantar com voce”.— \n",
            "\"Vou para Petropolis, Dom Casmurro; a casa e a mesma da Renania; ve se deixas \n",
            "essa caverna do Engenho Novo, e vai la passar uns quinze dias comigo\".— \"Meu \n",
            "caro Dom Casmurro, nao cuide que o dispenso do teatro amanha; venha e dormira \n",
            "aqui na cidade; dou-lhe camarote, dou-lhe cha, dou-lhe cama; so nao Ihe dou \n",
            "moga”. \n",
            "\n",
            "Nao consultes dicionarios. Casmurro nao esta aqui no sentido que eles Ihe dao, \n",
            "mas no que Ihe pos o vulgo de homem calado e metido consigo. Dom veio por \n",
            "ironia, para atribuir-me fumos de fidalgo. Tudo por estar cochilando! Tambem nao \n",
            "achei melhor titulo para a minha narracao; se nao tiver outro daqui ate ao fim do \n",
            "livro, vai este mesmo. O meu poeta do trem ficara sabendo que nao Ihe guardo \n",
            "rancor. E com pequeno esforco, sendo o titulo seu, podera cuidar que a obra e \n",
            "sua. Ha livros que apenas terao isso dos seus autores; alguns nem tanto. \n"
          ],
          "name": "stdout"
        },
        {
          "output_type": "execute_result",
          "data": {
            "text/plain": [
              "<function TextIOWrapper.close>"
            ]
          },
          "metadata": {
            "tags": []
          },
          "execution_count": 1
        }
      ]
    },
    {
      "cell_type": "code",
      "metadata": {
        "colab": {
          "base_uri": "https://localhost:8080/"
        },
        "id": "Aw31g-pQREGl",
        "outputId": "8280ca24-167e-4e76-c133-a4652a310d38"
      },
      "source": [
        "arquivo = open('Dom Casmurro.txt', 'r', encoding='utf-8')\n",
        "linha = arquivo.readline()\n",
        "while linha != '':\n",
        "    print(linha, end='')\n",
        "    linha = arquivo.readline()\n",
        "arquivo.close()"
      ],
      "execution_count": 2,
      "outputs": [
        {
          "output_type": "stream",
          "text": [
            "Dom Casmurro \n",
            "\n",
            "Texto de referenda: \n",
            "Obras Completas de Machado de Assis, vol. I, \n",
            "Nova Aguilar, Rio de Janeiro, 1994. \n",
            "Publicado originalmente pela Editora Gamier, Rio de Janeiro, 1899. \n",
            "\n",
            "\n",
            "CAPITULO PRIMEIRO \n",
            "DO TITULO \n",
            "\n",
            "Uma noite destas, vindo da cidade para o Engenho Novo, encontrei no trem da \n",
            "Central um rapaz aqui do bairro, que eu conhego de vista e de chapeu. \n",
            "Cumprimentou-me, sentou-se ao pe de mim, falou da Lua e dos ministros, e \n",
            "acabou recitando-me versos. A viagem era curta, e os versos pode ser que nao \n",
            "fossem inteiramente maus. Sucedeu, porem, que, como eu estava cansado, fechei \n",
            "os olhos tres ou quatro vezes; tanto bastou para que ele interrompesse a leitura e \n",
            "metesse os versos no bolso. \n",
            "\n",
            "— Continue, disse eu acordando. \n",
            "\n",
            "— Ja acabei, murmurou ele. \n",
            "\n",
            "— Sao muito bonitos. \n",
            "\n",
            "Vi-lhe fazer um gesto para tira-los outra vez do bolso, mas nao passou do gesto; \n",
            "estava amuado. No dia seguinte entrou a dizer de mim nomes feios, e acabou \n",
            "alcunhando-me Dom Casmurro. Os vizinhos, que nao gostam dos meus habitos \n",
            "reclusos e calados, deram curso a alcunha, que afinal pegou. Nem por isso me \n",
            "zanguei. Contei a anedota aos amigos da cidade, e eles, por graga, chamam-me \n",
            "assim, alguns em bilhetes: \"Dom Casmurro, domingo vou jantar com voce”.— \n",
            "\"Vou para Petropolis, Dom Casmurro; a casa e a mesma da Renania; ve se deixas \n",
            "essa caverna do Engenho Novo, e vai la passar uns quinze dias comigo\".— \"Meu \n",
            "caro Dom Casmurro, nao cuide que o dispenso do teatro amanha; venha e dormira \n",
            "aqui na cidade; dou-lhe camarote, dou-lhe cha, dou-lhe cama; so nao Ihe dou \n",
            "moga”. \n",
            "\n",
            "Nao consultes dicionarios. Casmurro nao esta aqui no sentido que eles Ihe dao, \n",
            "mas no que Ihe pos o vulgo de homem calado e metido consigo. Dom veio por \n",
            "ironia, para atribuir-me fumos de fidalgo. Tudo por estar cochilando! Tambem nao \n",
            "achei melhor titulo para a minha narracao; se nao tiver outro daqui ate ao fim do \n",
            "livro, vai este mesmo. O meu poeta do trem ficara sabendo que nao Ihe guardo \n",
            "rancor. E com pequeno esforco, sendo o titulo seu, podera cuidar que a obra e \n",
            "sua. Ha livros que apenas terao isso dos seus autores; alguns nem tanto. "
          ],
          "name": "stdout"
        }
      ]
    },
    {
      "cell_type": "code",
      "metadata": {
        "colab": {
          "base_uri": "https://localhost:8080/"
        },
        "id": "DpeqaOCVSFlY",
        "outputId": "9be9e11a-76c8-4923-ee02-f4e5e34d5f17"
      },
      "source": [
        "arquivo = open('Dom Casmurro.txt', 'r', encoding='utf-8')\n",
        "for linha in arquivo:\n",
        "    print(linha, end='')\n",
        "arquivo.close()"
      ],
      "execution_count": 3,
      "outputs": [
        {
          "output_type": "stream",
          "text": [
            "Dom Casmurro \n",
            "\n",
            "Texto de referenda: \n",
            "Obras Completas de Machado de Assis, vol. I, \n",
            "Nova Aguilar, Rio de Janeiro, 1994. \n",
            "Publicado originalmente pela Editora Gamier, Rio de Janeiro, 1899. \n",
            "\n",
            "\n",
            "CAPITULO PRIMEIRO \n",
            "DO TITULO \n",
            "\n",
            "Uma noite destas, vindo da cidade para o Engenho Novo, encontrei no trem da \n",
            "Central um rapaz aqui do bairro, que eu conhego de vista e de chapeu. \n",
            "Cumprimentou-me, sentou-se ao pe de mim, falou da Lua e dos ministros, e \n",
            "acabou recitando-me versos. A viagem era curta, e os versos pode ser que nao \n",
            "fossem inteiramente maus. Sucedeu, porem, que, como eu estava cansado, fechei \n",
            "os olhos tres ou quatro vezes; tanto bastou para que ele interrompesse a leitura e \n",
            "metesse os versos no bolso. \n",
            "\n",
            "— Continue, disse eu acordando. \n",
            "\n",
            "— Ja acabei, murmurou ele. \n",
            "\n",
            "— Sao muito bonitos. \n",
            "\n",
            "Vi-lhe fazer um gesto para tira-los outra vez do bolso, mas nao passou do gesto; \n",
            "estava amuado. No dia seguinte entrou a dizer de mim nomes feios, e acabou \n",
            "alcunhando-me Dom Casmurro. Os vizinhos, que nao gostam dos meus habitos \n",
            "reclusos e calados, deram curso a alcunha, que afinal pegou. Nem por isso me \n",
            "zanguei. Contei a anedota aos amigos da cidade, e eles, por graga, chamam-me \n",
            "assim, alguns em bilhetes: \"Dom Casmurro, domingo vou jantar com voce”.— \n",
            "\"Vou para Petropolis, Dom Casmurro; a casa e a mesma da Renania; ve se deixas \n",
            "essa caverna do Engenho Novo, e vai la passar uns quinze dias comigo\".— \"Meu \n",
            "caro Dom Casmurro, nao cuide que o dispenso do teatro amanha; venha e dormira \n",
            "aqui na cidade; dou-lhe camarote, dou-lhe cha, dou-lhe cama; so nao Ihe dou \n",
            "moga”. \n",
            "\n",
            "Nao consultes dicionarios. Casmurro nao esta aqui no sentido que eles Ihe dao, \n",
            "mas no que Ihe pos o vulgo de homem calado e metido consigo. Dom veio por \n",
            "ironia, para atribuir-me fumos de fidalgo. Tudo por estar cochilando! Tambem nao \n",
            "achei melhor titulo para a minha narracao; se nao tiver outro daqui ate ao fim do \n",
            "livro, vai este mesmo. O meu poeta do trem ficara sabendo que nao Ihe guardo \n",
            "rancor. E com pequeno esforco, sendo o titulo seu, podera cuidar que a obra e \n",
            "sua. Ha livros que apenas terao isso dos seus autores; alguns nem tanto. "
          ],
          "name": "stdout"
        }
      ]
    },
    {
      "cell_type": "code",
      "metadata": {
        "colab": {
          "base_uri": "https://localhost:8080/"
        },
        "id": "RO-AszkRUKOh",
        "outputId": "0ad912f7-226f-49fb-f46b-e6adf3a079a8"
      },
      "source": [
        "with open('Dom Casmurro.txt', 'r', encoding='utf-8') as arquivo:\n",
        "    texto = arquivo.read()\n",
        "    print(texto, end='')"
      ],
      "execution_count": 4,
      "outputs": [
        {
          "output_type": "stream",
          "text": [
            "Dom Casmurro \n",
            "\n",
            "Texto de referenda: \n",
            "Obras Completas de Machado de Assis, vol. I, \n",
            "Nova Aguilar, Rio de Janeiro, 1994. \n",
            "Publicado originalmente pela Editora Gamier, Rio de Janeiro, 1899. \n",
            "\n",
            "\n",
            "CAPITULO PRIMEIRO \n",
            "DO TITULO \n",
            "\n",
            "Uma noite destas, vindo da cidade para o Engenho Novo, encontrei no trem da \n",
            "Central um rapaz aqui do bairro, que eu conhego de vista e de chapeu. \n",
            "Cumprimentou-me, sentou-se ao pe de mim, falou da Lua e dos ministros, e \n",
            "acabou recitando-me versos. A viagem era curta, e os versos pode ser que nao \n",
            "fossem inteiramente maus. Sucedeu, porem, que, como eu estava cansado, fechei \n",
            "os olhos tres ou quatro vezes; tanto bastou para que ele interrompesse a leitura e \n",
            "metesse os versos no bolso. \n",
            "\n",
            "— Continue, disse eu acordando. \n",
            "\n",
            "— Ja acabei, murmurou ele. \n",
            "\n",
            "— Sao muito bonitos. \n",
            "\n",
            "Vi-lhe fazer um gesto para tira-los outra vez do bolso, mas nao passou do gesto; \n",
            "estava amuado. No dia seguinte entrou a dizer de mim nomes feios, e acabou \n",
            "alcunhando-me Dom Casmurro. Os vizinhos, que nao gostam dos meus habitos \n",
            "reclusos e calados, deram curso a alcunha, que afinal pegou. Nem por isso me \n",
            "zanguei. Contei a anedota aos amigos da cidade, e eles, por graga, chamam-me \n",
            "assim, alguns em bilhetes: \"Dom Casmurro, domingo vou jantar com voce”.— \n",
            "\"Vou para Petropolis, Dom Casmurro; a casa e a mesma da Renania; ve se deixas \n",
            "essa caverna do Engenho Novo, e vai la passar uns quinze dias comigo\".— \"Meu \n",
            "caro Dom Casmurro, nao cuide que o dispenso do teatro amanha; venha e dormira \n",
            "aqui na cidade; dou-lhe camarote, dou-lhe cha, dou-lhe cama; so nao Ihe dou \n",
            "moga”. \n",
            "\n",
            "Nao consultes dicionarios. Casmurro nao esta aqui no sentido que eles Ihe dao, \n",
            "mas no que Ihe pos o vulgo de homem calado e metido consigo. Dom veio por \n",
            "ironia, para atribuir-me fumos de fidalgo. Tudo por estar cochilando! Tambem nao \n",
            "achei melhor titulo para a minha narracao; se nao tiver outro daqui ate ao fim do \n",
            "livro, vai este mesmo. O meu poeta do trem ficara sabendo que nao Ihe guardo \n",
            "rancor. E com pequeno esforco, sendo o titulo seu, podera cuidar que a obra e \n",
            "sua. Ha livros que apenas terao isso dos seus autores; alguns nem tanto. "
          ],
          "name": "stdout"
        }
      ]
    },
    {
      "cell_type": "code",
      "metadata": {
        "id": "ODmcdKIBUrxs"
      },
      "source": [
        "with open('arquivo_texte.txt', 'w', encoding='utf-8') as arquivo:\n",
        "    arquivo.write('Essa é a primeira linha que eu escrevi usando python\\n')\n",
        "    arquivo.write('Essa é a segunda linha que eu escrevi usando python\\n')"
      ],
      "execution_count": 6,
      "outputs": []
    },
    {
      "cell_type": "code",
      "metadata": {
        "colab": {
          "base_uri": "https://localhost:8080/"
        },
        "id": "ha9XE_f5WSLs",
        "outputId": "1f5d8a27-6e2d-40c8-c61b-e5328b2728a6"
      },
      "source": [
        "with open('arquivo_texte.txt', 'r', encoding='utf-8') as arquivo:\n",
        "    print(arquivo.read(), end='')"
      ],
      "execution_count": 7,
      "outputs": [
        {
          "output_type": "stream",
          "text": [
            "Essa é a primeira linha que eu escrevi usando python\n",
            "Essa é a segunda linha que eu escrevi usando python\n",
            "\n"
          ],
          "name": "stdout"
        }
      ]
    },
    {
      "cell_type": "code",
      "metadata": {
        "id": "UZIcTLVgWZ50"
      },
      "source": [
        "with open('arquivo_texte.txt', 'a', encoding='utf-8') as arquivo:\n",
        "    arquivo.write('Essa é a terceira linha que eu escrevi usando python\\n')"
      ],
      "execution_count": 8,
      "outputs": []
    },
    {
      "cell_type": "code",
      "metadata": {
        "colab": {
          "base_uri": "https://localhost:8080/"
        },
        "id": "YuOz5I4pWhlJ",
        "outputId": "0d1ff916-d916-4776-d84d-17d215e97980"
      },
      "source": [
        "with open('arquivo_texte.txt', 'r', encoding='utf-8') as arquivo:\n",
        "    print(arquivo.read(), end='')"
      ],
      "execution_count": 9,
      "outputs": [
        {
          "output_type": "stream",
          "text": [
            "Essa é a primeira linha que eu escrevi usando python\n",
            "Essa é a segunda linha que eu escrevi usando python\n",
            "Essa é a terceira linha que eu escrevi usando python\n"
          ],
          "name": "stdout"
        }
      ]
    },
    {
      "cell_type": "code",
      "metadata": {
        "id": "jLCSwA0xWjOW"
      },
      "source": [
        ""
      ],
      "execution_count": null,
      "outputs": []
    }
  ]
}