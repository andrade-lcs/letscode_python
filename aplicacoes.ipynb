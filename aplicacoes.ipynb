{
  "nbformat": 4,
  "nbformat_minor": 0,
  "metadata": {
    "colab": {
      "name": "aplicacoes.ipynb",
      "provenance": [],
      "authorship_tag": "ABX9TyMc+BHhpve+sFMPgoMbFMk8"
    },
    "kernelspec": {
      "name": "python3",
      "display_name": "Python 3"
    },
    "language_info": {
      "name": "python"
    }
  },
  "cells": [
    {
      "cell_type": "code",
      "metadata": {
        "colab": {
          "base_uri": "https://localhost:8080/"
        },
        "id": "1h4EHYAlo8as",
        "outputId": "b15bb94f-d111-46f4-b38a-c9135084992f"
      },
      "source": [
        "!pip install requests"
      ],
      "execution_count": 1,
      "outputs": [
        {
          "output_type": "stream",
          "text": [
            "Requirement already satisfied: requests in /usr/local/lib/python3.7/dist-packages (2.23.0)\n",
            "Requirement already satisfied: chardet<4,>=3.0.2 in /usr/local/lib/python3.7/dist-packages (from requests) (3.0.4)\n",
            "Requirement already satisfied: idna<3,>=2.5 in /usr/local/lib/python3.7/dist-packages (from requests) (2.10)\n",
            "Requirement already satisfied: urllib3!=1.25.0,!=1.25.1,<1.26,>=1.21.1 in /usr/local/lib/python3.7/dist-packages (from requests) (1.24.3)\n",
            "Requirement already satisfied: certifi>=2017.4.17 in /usr/local/lib/python3.7/dist-packages (from requests) (2021.5.30)\n"
          ],
          "name": "stdout"
        }
      ]
    },
    {
      "cell_type": "code",
      "metadata": {
        "id": "r0anZRSWp4fp"
      },
      "source": [
        "import requests"
      ],
      "execution_count": 2,
      "outputs": []
    },
    {
      "cell_type": "code",
      "metadata": {
        "id": "FX3yjntwp88V"
      },
      "source": [
        "url = 'https://api.exchangerate-api.com/v6/latest'\n",
        "req = requests.get(url)\n",
        "print(req.status_code)"
      ],
      "execution_count": 3,
      "outputs": []
    },
    {
      "cell_type": "code",
      "metadata": {
        "colab": {
          "base_uri": "https://localhost:8080/"
        },
        "id": "SxZTCLo5qchD",
        "outputId": "b72e2407-fda8-4999-900e-3bce5529cdfe"
      },
      "source": [
        "dados = req.json()\n",
        "\n",
        "print(dados)"
      ],
      "execution_count": 8,
      "outputs": [
        {
          "output_type": "stream",
          "text": [
            "{'result': 'success', 'provider': 'https://www.exchangerate-api.com', 'documentation': 'https://www.exchangerate-api.com/docs/free', 'WARNING_NEW_ENDPOINT': 'Swap *api.exchangerate-api.com* with *open.er-api.com* for better servers!', 'terms_of_use': 'https://www.exchangerate-api.com/terms', 'time_last_update_unix': 1626566551, 'time_last_update_utc': 'Sun, 18 Jul 2021 00:02:31 +0000', 'time_next_update_unix': 1626654861, 'time_next_update_utc': 'Mon, 19 Jul 2021 00:34:21 +0000', 'time_eol_unix': 0, 'base_code': 'USD', 'rates': {'USD': 1, 'AED': 3.67, 'AFN': 80.23, 'ALL': 103.73, 'AMD': 494.82, 'ANG': 1.79, 'AOA': 647.59, 'ARS': 96.27, 'AUD': 1.35, 'AWG': 1.79, 'AZN': 1.7, 'BAM': 1.65, 'BBD': 2, 'BDT': 84.85, 'BGN': 1.65, 'BHD': 0.376, 'BIF': 1970.11, 'BMD': 1, 'BND': 1.35, 'BOB': 6.89, 'BRL': 5.1, 'BSD': 1, 'BTN': 74.61, 'BWP': 11.02, 'BYN': 2.54, 'BZD': 2, 'CAD': 1.26, 'CDF': 1978.53, 'CHF': 0.919, 'CLP': 753.22, 'CNY': 6.47, 'COP': 3797.23, 'CRC': 619.62, 'CUC': 1, 'CUP': 25.75, 'CVE': 93.28, 'CZK': 21.62, 'DJF': 177.72, 'DKK': 6.31, 'DOP': 56.94, 'DZD': 134.69, 'EGP': 15.69, 'ERN': 15, 'ETB': 43.84, 'EUR': 0.846, 'FJD': 2.08, 'FKP': 0.724, 'FOK': 6.31, 'GBP': 0.724, 'GEL': 3.12, 'GGP': 0.724, 'GHS': 5.95, 'GIP': 0.724, 'GMD': 51.8, 'GNF': 9773.06, 'GTQ': 7.74, 'GYD': 208.38, 'HKD': 7.77, 'HNL': 23.96, 'HRK': 6.37, 'HTG': 93.61, 'HUF': 304.35, 'IDR': 14519.02, 'ILS': 3.29, 'IMP': 0.724, 'INR': 74.61, 'IQD': 1453.15, 'IRR': 41831.17, 'ISK': 123.56, 'JMD': 154.35, 'JOD': 0.709, 'JPY': 110.1, 'KES': 108.17, 'KGS': 84.43, 'KHR': 4054.24, 'KID': 1.35, 'KMF': 416.19, 'KRW': 1142.31, 'KWD': 0.3, 'KYD': 0.833, 'KZT': 426.76, 'LAK': 9485.59, 'LBP': 1507.5, 'LKR': 199.2, 'LRD': 171.96, 'LSL': 14.42, 'LYD': 4.49, 'MAD': 8.94, 'MDL': 18, 'MGA': 3894.67, 'MKD': 52.13, 'MMK': 1647.09, 'MNT': 2838.26, 'MOP': 8, 'MRU': 35.99, 'MUR': 42.85, 'MVR': 15.42, 'MWK': 807.55, 'MXN': 19.9, 'MYR': 4.21, 'MZN': 63.86, 'NAD': 14.42, 'NGN': 430.04, 'NIO': 35.27, 'NOK': 8.83, 'NPR': 119.38, 'NZD': 1.43, 'OMR': 0.384, 'PAB': 1, 'PEN': 3.94, 'PGK': 3.52, 'PHP': 50.34, 'PKR': 159.38, 'PLN': 3.88, 'PYG': 6819.25, 'QAR': 3.64, 'RON': 4.17, 'RSD': 99.48, 'RUB': 74.15, 'RWF': 1005.43, 'SAR': 3.75, 'SBD': 7.93, 'SCR': 14.35, 'SDG': 440.9, 'SEK': 8.67, 'SGD': 1.35, 'SHP': 0.724, 'SLL': 10210.27, 'SOS': 576.25, 'SRD': 21.13, 'SSP': 177.57, 'STN': 20.73, 'SYP': 1302.2, 'SZL': 14.42, 'THB': 32.78, 'TJS': 11.31, 'TMT': 3.5, 'TND': 2.78, 'TOP': 2.24, 'TRY': 8.54, 'TTD': 6.73, 'TVD': 1.35, 'TWD': 27.97, 'TZS': 2315.81, 'UAH': 27.25, 'UGX': 3544.71, 'UYU': 43.87, 'UZS': 10530.66, 'VES': 3536944.38, 'VND': 22988.07, 'VUV': 110.27, 'WST': 2.55, 'XAF': 554.92, 'XCD': 2.7, 'XDR': 0.702, 'XOF': 554.92, 'XPF': 100.95, 'YER': 251.02, 'ZAR': 14.42, 'ZMW': 22.62}}\n"
          ],
          "name": "stdout"
        }
      ]
    },
    {
      "cell_type": "code",
      "metadata": {
        "colab": {
          "base_uri": "https://localhost:8080/"
        },
        "id": "mA7HC_WYqloe",
        "outputId": "0ddc4ab2-fdcf-4e41-c610-cfa4082403e1"
      },
      "source": [
        "valor_reais = float(input('Informe o valor em R$ para ser convertido\\n'))\n",
        "cotacao = dados['rates']['BRL']\n",
        "print(f'R${valor_reais} em dólares valem US$ {(valor_reais/cotacao):.2f}.')"
      ],
      "execution_count": 10,
      "outputs": [
        {
          "output_type": "stream",
          "text": [
            "Informe o valor em R$ para ser convertido\n",
            "100\n",
            "R$100.0 em dólares valem US$ 19.61.\n"
          ],
          "name": "stdout"
        }
      ]
    },
    {
      "cell_type": "code",
      "metadata": {
        "id": "Khi4ZM74quW0"
      },
      "source": [
        ""
      ],
      "execution_count": null,
      "outputs": []
    }
  ]
}