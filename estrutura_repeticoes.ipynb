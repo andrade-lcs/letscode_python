{
 "cells": [
  {
   "cell_type": "code",
   "execution_count": null,
   "source": [
    "contador = 0\r\n",
    "\r\n",
    "while contador < 10:\r\n",
    "    contador += 1\r\n",
    "    if contador == 1:\r\n",
    "        print(contador, 'Item limpo')\r\n",
    "    else:\r\n",
    "        print(contador, 'Itens limpos')\r\n",
    "\r\n",
    "print('Fim da repetição do bloco while')"
   ],
   "outputs": [
    {
     "output_type": "stream",
     "name": "stdout",
     "text": [
      "1 Item limpo\n",
      "2 Itens limpos\n",
      "3 Itens limpos\n",
      "4 Itens limpos\n",
      "5 Itens limpos\n",
      "6 Itens limpos\n",
      "7 Itens limpos\n",
      "8 Itens limpos\n",
      "9 Itens limpos\n",
      "10 Itens limpos\n",
      "Fim da repetição do bloco while\n"
     ]
    }
   ],
   "metadata": {}
  },
  {
   "cell_type": "code",
   "execution_count": 3,
   "source": [
    "contador = 0\r\n",
    "\r\n",
    "while True:\r\n",
    "    if contador < 10:\r\n",
    "        contador += 1\r\n",
    "        if contador == 1:\r\n",
    "            print(contador, 'Item limpo')\r\n",
    "        else:\r\n",
    "            print(contador, 'Itens limpos') \r\n",
    "    else:\r\n",
    "        break"
   ],
   "outputs": [
    {
     "output_type": "stream",
     "name": "stdout",
     "text": [
      "1 Item limpo\n",
      "2 Itens limpos\n",
      "3 Itens limpos\n",
      "4 Itens limpos\n",
      "5 Itens limpos\n",
      "6 Itens limpos\n",
      "7 Itens limpos\n",
      "8 Itens limpos\n",
      "9 Itens limpos\n",
      "10 Itens limpos\n"
     ]
    }
   ],
   "metadata": {}
  },
  {
   "cell_type": "code",
   "execution_count": 4,
   "source": [
    "texto = input('Digite sua senha: ')\r\n",
    "\r\n",
    "while texto != 'letscode':\r\n",
    "    texto = input('Senha inválida! Digite novamente: ')\r\n",
    "\r\n",
    "print('Acesso permitido')"
   ],
   "outputs": [
    {
     "output_type": "stream",
     "name": "stdout",
     "text": [
      "Acesso permitido\n"
     ]
    }
   ],
   "metadata": {}
  },
  {
   "cell_type": "code",
   "execution_count": 5,
   "source": [
    "contador = 0\r\n",
    "\r\n",
    "while contador < 10:\r\n",
    "    contador += 1\r\n",
    "    if contador == 1:\r\n",
    "        continue\r\n",
    "    else:\r\n",
    "        print(contador, 'Itens limpos')\r\n",
    "\r\n",
    "print('Fim da repetição do bloco while')"
   ],
   "outputs": [
    {
     "output_type": "stream",
     "name": "stdout",
     "text": [
      "2 Itens limpos\n",
      "3 Itens limpos\n",
      "4 Itens limpos\n",
      "5 Itens limpos\n",
      "6 Itens limpos\n",
      "7 Itens limpos\n",
      "8 Itens limpos\n",
      "9 Itens limpos\n",
      "10 Itens limpos\n",
      "Fim da repetição do bloco while\n"
     ]
    }
   ],
   "metadata": {}
  },
  {
   "cell_type": "code",
   "execution_count": null,
   "source": [],
   "outputs": [],
   "metadata": {}
  }
 ],
 "metadata": {
  "orig_nbformat": 4,
  "language_info": {
   "name": "python"
  }
 },
 "nbformat": 4,
 "nbformat_minor": 2
}